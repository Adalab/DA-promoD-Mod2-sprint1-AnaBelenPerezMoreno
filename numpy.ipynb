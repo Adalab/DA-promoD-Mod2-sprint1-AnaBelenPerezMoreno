{
 "cells": [
  {
   "attachments": {},
   "cell_type": "markdown",
   "metadata": {},
   "source": [
    "# Evaluación I\n",
    "## Evaluación de contenidos 1 Módulo 2\n",
    "Bienvenidas a una nueva evaluación del Bootcamp de Análisis de Datos de Adalab.\n",
    "Como en evaluaciones anteriores dispondréis de 2 tardes (aproximadamente 8 horas para la resolución de todos los ejercicios propuestos).\n",
    "Estos ejercicios se tendrán que defender en el día de la evaluación de forma individual con vuestra tutora en una simulación de entrevista técnica donde tendréis de 20 minutos para resolver o explicar los ejercicios propuestos entregados.\n",
    "\n",
    "## Ejercicios de NumPy\n",
    "\n",
    "    1. Importa la librería de NumPy.\n"
   ]
  },
  {
   "cell_type": "code",
   "execution_count": 1,
   "metadata": {},
   "outputs": [],
   "source": [
    "import numpy as np"
   ]
  },
  {
   "attachments": {},
   "cell_type": "markdown",
   "metadata": {},
   "source": [
    "    2. Crea un array de 1 dimension y 10 elementos.\n"
   ]
  },
  {
   "cell_type": "code",
   "execution_count": 2,
   "metadata": {},
   "outputs": [
    {
     "data": {
      "text/plain": [
       "array([334, 130, 484, 471, 234, 387, 725, 326, 949, 212])"
      ]
     },
     "execution_count": 2,
     "metadata": {},
     "output_type": "execute_result"
    }
   ],
   "source": [
    "arr1 = np.random.randint(100,1000, (10))\n",
    "arr1"
   ]
  },
  {
   "attachments": {},
   "cell_type": "markdown",
   "metadata": {},
   "source": [
    "    3. Reemplaza todos los números impares por el valor \"impar\" y los pares por \"par\". Para hacer esto os tendréis que crear un array nuevo donde vayáis añadiendo los valores nuevos.\n"
   ]
  },
  {
   "cell_type": "code",
   "execution_count": 3,
   "metadata": {},
   "outputs": [
    {
     "data": {
      "text/plain": [
       "array([None, None, None, None, None, None, None, None, None, None],\n",
       "      dtype=object)"
      ]
     },
     "execution_count": 3,
     "metadata": {},
     "output_type": "execute_result"
    }
   ],
   "source": [
    "arr2 = np.empty_like(arr1, dtype = object ) #creamos un array con las mismas características que el anterior\n",
    "arr2"
   ]
  },
  {
   "cell_type": "code",
   "execution_count": 21,
   "metadata": {},
   "outputs": [],
   "source": [
    "for i in range(0, arr1.shape[0]): ## iteramos por el primer array, si es par, agregamos par en el segundo array\n",
    "    if arr1[i]%2 == 0:\n",
    "        arr2[i] = \"par\"\n",
    "    elif arr1[i]%2 != 0:\n",
    "        arr2[i] = \"impar\""
   ]
  },
  {
   "cell_type": "code",
   "execution_count": 5,
   "metadata": {},
   "outputs": [
    {
     "data": {
      "text/plain": [
       "array(['par', 'par', 'par', 'impar', 'par', 'impar', 'impar', 'par',\n",
       "       'impar', 'par'], dtype=object)"
      ]
     },
     "execution_count": 5,
     "metadata": {},
     "output_type": "execute_result"
    }
   ],
   "source": [
    "arr2"
   ]
  },
  {
   "attachments": {},
   "cell_type": "markdown",
   "metadata": {},
   "source": [
    "    4. Cambiad la forma del array del ejercicio 3 a un array de 2 filas y 5 columnas.\n"
   ]
  },
  {
   "cell_type": "code",
   "execution_count": 6,
   "metadata": {},
   "outputs": [
    {
     "data": {
      "text/plain": [
       "array([['par', 'par', 'par', 'impar', 'par'],\n",
       "       ['impar', 'impar', 'par', 'impar', 'par']], dtype=object)"
      ]
     },
     "execution_count": 6,
     "metadata": {},
     "output_type": "execute_result"
    }
   ],
   "source": [
    "arr3 = np.reshape(arr2, (2,5))\n",
    "arr3"
   ]
  },
  {
   "attachments": {},
   "cell_type": "markdown",
   "metadata": {},
   "source": [
    "    5. Extrae los elementos comunes de los siguientes arrays\n",
    "        array1 = np.array([1,2,3,2,3,4,3,4,5,6])\n",
    "        array2 = np.array([7,2,10,2,7,4,9,4,9,8])\n"
   ]
  },
  {
   "cell_type": "code",
   "execution_count": 7,
   "metadata": {},
   "outputs": [],
   "source": [
    "array1 = np.array([1,2,3,2,3,4,3,4,5,6])\n",
    "array2 = np.array([7,2,10,2,7,4,9,4,9,8])"
   ]
  },
  {
   "cell_type": "code",
   "execution_count": 8,
   "metadata": {},
   "outputs": [
    {
     "data": {
      "text/plain": [
       "array([2, 4])"
      ]
     },
     "execution_count": 8,
     "metadata": {},
     "output_type": "execute_result"
    }
   ],
   "source": [
    "array3 = np.intersect1d(array1, array2)\n",
    "array3"
   ]
  },
  {
   "attachments": {},
   "cell_type": "markdown",
   "metadata": {},
   "source": [
    "    6. Extraed los elementos que están en el array1 pero no en el array2.\n"
   ]
  },
  {
   "cell_type": "code",
   "execution_count": 9,
   "metadata": {},
   "outputs": [
    {
     "data": {
      "text/plain": [
       "array([1, 3, 5, 6])"
      ]
     },
     "execution_count": 9,
     "metadata": {},
     "output_type": "execute_result"
    }
   ],
   "source": [
    "array4 = np.setdiff1d(array1, array2)\n",
    "array4"
   ]
  },
  {
   "attachments": {},
   "cell_type": "markdown",
   "metadata": {},
   "source": [
    "    7. Extraed las posiciones donde tengamos elementos que sean iguales.\n"
   ]
  },
  {
   "cell_type": "code",
   "execution_count": 25,
   "metadata": {},
   "outputs": [],
   "source": [
    "array1 = np.array([1,2,3,2,3,4,3,4,5,6])\n",
    "array2 = np.array([7,2,10,2,7,4,9,4,9,8])"
   ]
  },
  {
   "cell_type": "code",
   "execution_count": 26,
   "metadata": {},
   "outputs": [],
   "source": [
    "posiciones = np.where(array1 == array2)"
   ]
  },
  {
   "cell_type": "code",
   "execution_count": 27,
   "metadata": {},
   "outputs": [
    {
     "name": "stdout",
     "output_type": "stream",
     "text": [
      "las posiciones del array2 donde se encuentran los elementos comunes del array1 son : (array([1, 3, 5, 7]),)\n"
     ]
    }
   ],
   "source": [
    "print(f\"las posiciones del array2 donde se encuentran los elementos comunes del array1 son :\", posiciones)"
   ]
  },
  {
   "attachments": {},
   "cell_type": "markdown",
   "metadata": {},
   "source": [
    "    8. Cread un array de 3 filas y 5 columnas, con números enteros del 0 al 50. Una vez creado, extrae los valores que sean menores que 10 y mayores que 40.\n"
   ]
  },
  {
   "cell_type": "code",
   "execution_count": 13,
   "metadata": {},
   "outputs": [
    {
     "data": {
      "text/plain": [
       "array([[43, 36,  6, 39, 27],\n",
       "       [32, 44,  6,  8,  8],\n",
       "       [34, 23, 10, 13, 16]])"
      ]
     },
     "execution_count": 13,
     "metadata": {},
     "output_type": "execute_result"
    }
   ],
   "source": [
    "arr4 = np.random.randint(0,50, (3,5))\n",
    "arr4"
   ]
  },
  {
   "cell_type": "code",
   "execution_count": 14,
   "metadata": {},
   "outputs": [
    {
     "data": {
      "text/plain": [
       "array([43,  6, 44,  6,  8,  8])"
      ]
     },
     "execution_count": 14,
     "metadata": {},
     "output_type": "execute_result"
    }
   ],
   "source": [
    "valores = arr4[(arr4 < 10) | (arr4 > 40)]\n",
    "valores"
   ]
  },
  {
   "attachments": {},
   "cell_type": "markdown",
   "metadata": {},
   "source": [
    "    9. Cread un array de 5x3 con números decimales aleatorios entre el 5 y el 10.\n"
   ]
  },
  {
   "cell_type": "code",
   "execution_count": 15,
   "metadata": {},
   "outputs": [
    {
     "data": {
      "text/plain": [
       "array([[6.05613545, 8.50008497, 7.63937075],\n",
       "       [8.38793238, 7.50377089, 6.02597989],\n",
       "       [9.14940692, 7.98829551, 8.57567463],\n",
       "       [7.25916725, 6.70563783, 9.3446754 ],\n",
       "       [5.3712799 , 7.97450369, 7.62799428]])"
      ]
     },
     "execution_count": 15,
     "metadata": {},
     "output_type": "execute_result"
    }
   ],
   "source": [
    "arr5 = np.random.uniform(5, 10, (5,3))\n",
    "arr5"
   ]
  },
  {
   "attachments": {},
   "cell_type": "markdown",
   "metadata": {},
   "source": [
    "    10. Crea un array de tres dimensiones de 2x4x7 con números entre el 1 y el 20\n"
   ]
  },
  {
   "cell_type": "code",
   "execution_count": 16,
   "metadata": {},
   "outputs": [
    {
     "data": {
      "text/plain": [
       "array([[[17, 10,  9, 11, 10, 14, 13],\n",
       "        [19, 17, 10, 14, 13, 19, 11],\n",
       "        [ 5,  5, 17, 17,  7, 17, 14],\n",
       "        [ 2,  2,  8, 11, 14,  4,  9]],\n",
       "\n",
       "       [[ 7,  5, 14,  4, 18, 11,  9],\n",
       "        [16, 13, 17,  3,  1,  7, 12],\n",
       "        [11,  1, 16, 16, 13,  3,  7],\n",
       "        [ 8,  3, 10, 12,  2, 14, 17]]])"
      ]
     },
     "execution_count": 16,
     "metadata": {},
     "output_type": "execute_result"
    }
   ],
   "source": [
    "arr6 = np.random.randint(1, 20, (2,4,7))\n",
    "arr6"
   ]
  },
  {
   "cell_type": "markdown",
   "metadata": {},
   "source": [
    "        10.1 Transponed el array para que tenga 4 matrices, 7 filas y 2 columnas\n"
   ]
  },
  {
   "cell_type": "code",
   "execution_count": 17,
   "metadata": {},
   "outputs": [
    {
     "data": {
      "text/plain": [
       "array([[[17, 10],\n",
       "        [ 9, 11],\n",
       "        [10, 14],\n",
       "        [13, 19],\n",
       "        [17, 10],\n",
       "        [14, 13],\n",
       "        [19, 11]],\n",
       "\n",
       "       [[ 5,  5],\n",
       "        [17, 17],\n",
       "        [ 7, 17],\n",
       "        [14,  2],\n",
       "        [ 2,  8],\n",
       "        [11, 14],\n",
       "        [ 4,  9]],\n",
       "\n",
       "       [[ 7,  5],\n",
       "        [14,  4],\n",
       "        [18, 11],\n",
       "        [ 9, 16],\n",
       "        [13, 17],\n",
       "        [ 3,  1],\n",
       "        [ 7, 12]],\n",
       "\n",
       "       [[11,  1],\n",
       "        [16, 16],\n",
       "        [13,  3],\n",
       "        [ 7,  8],\n",
       "        [ 3, 10],\n",
       "        [12,  2],\n",
       "        [14, 17]]])"
      ]
     },
     "execution_count": 17,
     "metadata": {},
     "output_type": "execute_result"
    }
   ],
   "source": [
    "arr7 = np.reshape(arr6, (4,7,2)) ## lo hacemos con los métodos \n",
    "arr8 = np.transpose(arr6, (1,2,0))\n",
    "arr7"
   ]
  },
  {
   "cell_type": "code",
   "execution_count": 18,
   "metadata": {},
   "outputs": [
    {
     "data": {
      "text/plain": [
       "array([[[17,  7],\n",
       "        [10,  5],\n",
       "        [ 9, 14],\n",
       "        [11,  4],\n",
       "        [10, 18],\n",
       "        [14, 11],\n",
       "        [13,  9]],\n",
       "\n",
       "       [[19, 16],\n",
       "        [17, 13],\n",
       "        [10, 17],\n",
       "        [14,  3],\n",
       "        [13,  1],\n",
       "        [19,  7],\n",
       "        [11, 12]],\n",
       "\n",
       "       [[ 5, 11],\n",
       "        [ 5,  1],\n",
       "        [17, 16],\n",
       "        [17, 16],\n",
       "        [ 7, 13],\n",
       "        [17,  3],\n",
       "        [14,  7]],\n",
       "\n",
       "       [[ 2,  8],\n",
       "        [ 2,  3],\n",
       "        [ 8, 10],\n",
       "        [11, 12],\n",
       "        [14,  2],\n",
       "        [ 4, 14],\n",
       "        [ 9, 17]]])"
      ]
     },
     "execution_count": 18,
     "metadata": {},
     "output_type": "execute_result"
    }
   ],
   "source": [
    "arr8"
   ]
  }
 ],
 "metadata": {
  "kernelspec": {
   "display_name": "base",
   "language": "python",
   "name": "python3"
  },
  "language_info": {
   "codemirror_mode": {
    "name": "ipython",
    "version": 3
   },
   "file_extension": ".py",
   "mimetype": "text/x-python",
   "name": "python",
   "nbconvert_exporter": "python",
   "pygments_lexer": "ipython3",
   "version": "3.9.16"
  },
  "orig_nbformat": 4
 },
 "nbformat": 4,
 "nbformat_minor": 2
}
